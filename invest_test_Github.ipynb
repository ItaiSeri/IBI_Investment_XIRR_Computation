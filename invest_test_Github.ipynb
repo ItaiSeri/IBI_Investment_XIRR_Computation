{
  "nbformat": 4,
  "nbformat_minor": 0,
  "metadata": {
    "colab": {
      "name": "invest_test_Github.ipynb",
      "provenance": [],
      "collapsed_sections": [],
      "include_colab_link": true
    },
    "language_info": {
      "codemirror_mode": {
        "name": "ipython",
        "version": 3
      },
      "file_extension": ".py",
      "mimetype": "text/x-python",
      "name": "python",
      "nbconvert_exporter": "python",
      "pygments_lexer": "ipython3",
      "version": "3.6.4"
    },
    "kernelspec": {
      "display_name": "Python 3",
      "language": "python",
      "name": "python3"
    }
  },
  "cells": [
    {
      "cell_type": "markdown",
      "metadata": {
        "id": "view-in-github",
        "colab_type": "text"
      },
      "source": [
        "<a href=\"https://colab.research.google.com/github/ItaiSeri/My_Investment_Analysis/blob/master/invest_test_Github.ipynb\" target=\"_parent\"><img src=\"https://colab.research.google.com/assets/colab-badge.svg\" alt=\"Open In Colab\"/></a>"
      ]
    },
    {
      "cell_type": "code",
      "metadata": {
        "id": "tIR8zYa-RvdQ",
        "colab_type": "code",
        "outputId": "0b835664-3c63-46a6-a322-754e1a1b16e0",
        "colab": {
          "base_uri": "https://localhost:8080/",
          "height": 188
        }
      },
      "source": [
        "z = '/content/drive/My Drive/Collab Notebooks/MyFunctions'\n",
        "!pip install ipynb\n",
        "import numpy as np\n",
        "import pandas as pd\n",
        "import matplotlib.pyplot as plt\n",
        "from pathlib import Path\n",
        "from glob import glob\n",
        "#from ipynb.fs.full.z import xirr #Import 'xirr' function from another notebook\n",
        "from google.colab import drive\n",
        "drive.mount('/content/drive')\n",
        "\n",
        "\n",
        "#path = Path(\"F:/Dowloads/investment/\")\n",
        "path = Path(\"/content/drive/My Drive/investment/\")\n",
        "#%run '/content/drive/My Drive/Collab Notebooks/MyFunctions.ipynb'\n",
        "\n",
        "\n",
        "filenames = sorted(path.glob('data*.xlsx')) "
      ],
      "execution_count": 1,
      "outputs": [
        {
          "output_type": "stream",
          "text": [
            "Collecting ipynb\n",
            "  Downloading https://files.pythonhosted.org/packages/31/42/4c0bbb66390e3a68e04ebf134c8d074a00c18b5882293f8ace5f7497fbf0/ipynb-0.5.1-py3-none-any.whl\n",
            "Installing collected packages: ipynb\n",
            "Successfully installed ipynb-0.5.1\n",
            "Go to this URL in a browser: https://accounts.google.com/o/oauth2/auth?client_id=947318989803-6bn6qk8qdgf4n4g3pfee6491hc0brc4i.apps.googleusercontent.com&redirect_uri=urn%3aietf%3awg%3aoauth%3a2.0%3aoob&response_type=code&scope=email%20https%3a%2f%2fwww.googleapis.com%2fauth%2fdocs.test%20https%3a%2f%2fwww.googleapis.com%2fauth%2fdrive%20https%3a%2f%2fwww.googleapis.com%2fauth%2fdrive.photos.readonly%20https%3a%2f%2fwww.googleapis.com%2fauth%2fpeopleapi.readonly\n",
            "\n",
            "Enter your authorization code:\n",
            "··········\n",
            "Mounted at /content/drive\n"
          ],
          "name": "stdout"
        }
      ]
    },
    {
      "cell_type": "markdown",
      "metadata": {
        "id": "keCNdRjIRvdU",
        "colab_type": "text"
      },
      "source": [
        "Append Excel filenames into one DataFrame\n"
      ]
    },
    {
      "cell_type": "code",
      "metadata": {
        "id": "j0Yed0eQRvdU",
        "colab_type": "code",
        "outputId": "11c9aadc-193a-429a-d612-f354c682f53f",
        "colab": {
          "base_uri": "https://localhost:8080/",
          "height": 106
        }
      },
      "source": [
        "df = pd.DataFrame()\n",
        "for f in filenames:\n",
        "    data = pd.read_excel(f)\n",
        "    df = df.append(data)\n",
        "df = df.reset_index(drop=True)\n",
        "df.head(2)"
      ],
      "execution_count": 3,
      "outputs": [
        {
          "output_type": "execute_result",
          "data": {
            "text/html": [
              "<div>\n",
              "<style scoped>\n",
              "    .dataframe tbody tr th:only-of-type {\n",
              "        vertical-align: middle;\n",
              "    }\n",
              "\n",
              "    .dataframe tbody tr th {\n",
              "        vertical-align: top;\n",
              "    }\n",
              "\n",
              "    .dataframe thead th {\n",
              "        text-align: right;\n",
              "    }\n",
              "</style>\n",
              "<table border=\"1\" class=\"dataframe\">\n",
              "  <thead>\n",
              "    <tr style=\"text-align: right;\">\n",
              "      <th></th>\n",
              "      <th>תאריך</th>\n",
              "      <th>נייר/תנועה</th>\n",
              "      <th>מס' נייר/תנועה</th>\n",
              "      <th>פעולה</th>\n",
              "      <th>כמות</th>\n",
              "      <th>מחיר</th>\n",
              "      <th>זכות נטו</th>\n",
              "      <th>חובה נטו</th>\n",
              "      <th>עמלה</th>\n",
              "      <th>יתרה</th>\n",
              "      <th>אסמכתא</th>\n",
              "    </tr>\n",
              "  </thead>\n",
              "  <tbody>\n",
              "    <tr>\n",
              "      <th>0</th>\n",
              "      <td>30 בנוב׳ 2014</td>\n",
              "      <td>100 ת\"א MTF</td>\n",
              "      <td>5109889</td>\n",
              "      <td>הפקדה</td>\n",
              "      <td>7028.0</td>\n",
              "      <td>144.65</td>\n",
              "      <td>0.0</td>\n",
              "      <td>0.0</td>\n",
              "      <td>0.0</td>\n",
              "      <td>0.0</td>\n",
              "      <td>995021</td>\n",
              "    </tr>\n",
              "    <tr>\n",
              "      <th>1</th>\n",
              "      <td>30 בנוב׳ 2014</td>\n",
              "      <td>S&amp;P 500 MTF</td>\n",
              "      <td>5117478</td>\n",
              "      <td>הפקדה</td>\n",
              "      <td>14939.0</td>\n",
              "      <td>149.93</td>\n",
              "      <td>0.0</td>\n",
              "      <td>0.0</td>\n",
              "      <td>0.0</td>\n",
              "      <td>0.0</td>\n",
              "      <td>995022</td>\n",
              "    </tr>\n",
              "  </tbody>\n",
              "</table>\n",
              "</div>"
            ],
            "text/plain": [
              "           תאריך   נייר/תנועה  מס' נייר/תנועה  ... עמלה  יתרה  אסמכתא\n",
              "0  30 בנוב׳ 2014  100 ת\"א MTF         5109889  ...  0.0   0.0  995021\n",
              "1  30 בנוב׳ 2014  S&P 500 MTF         5117478  ...  0.0   0.0  995022\n",
              "\n",
              "[2 rows x 11 columns]"
            ]
          },
          "metadata": {
            "tags": []
          },
          "execution_count": 3
        }
      ]
    },
    {
      "cell_type": "markdown",
      "metadata": {
        "id": "nwmLZfiQRvdb",
        "colab_type": "text"
      },
      "source": [
        "Translate Columns from Hebrew to English"
      ]
    },
    {
      "cell_type": "code",
      "metadata": {
        "id": "XzKm69emRvdc",
        "colab_type": "code",
        "outputId": "e31f96d0-1e30-4f8f-f1b5-4418488532ed",
        "colab": {
          "base_uri": "https://localhost:8080/",
          "height": 106
        }
      },
      "source": [
        "old_cols = list (df.columns)\n",
        "new_cols = ['date','stock_desc','stock_num','action_type','quantity','price','action_credit','action_cost','commission','balance','confirmation_num']\n",
        "new_cols_dict = dict(zip(old_cols, new_cols))\n",
        "df.rename(columns = new_cols_dict,inplace=True)\n",
        "df.head(2)"
      ],
      "execution_count": 4,
      "outputs": [
        {
          "output_type": "execute_result",
          "data": {
            "text/html": [
              "<div>\n",
              "<style scoped>\n",
              "    .dataframe tbody tr th:only-of-type {\n",
              "        vertical-align: middle;\n",
              "    }\n",
              "\n",
              "    .dataframe tbody tr th {\n",
              "        vertical-align: top;\n",
              "    }\n",
              "\n",
              "    .dataframe thead th {\n",
              "        text-align: right;\n",
              "    }\n",
              "</style>\n",
              "<table border=\"1\" class=\"dataframe\">\n",
              "  <thead>\n",
              "    <tr style=\"text-align: right;\">\n",
              "      <th></th>\n",
              "      <th>date</th>\n",
              "      <th>stock_desc</th>\n",
              "      <th>stock_num</th>\n",
              "      <th>action_type</th>\n",
              "      <th>quantity</th>\n",
              "      <th>price</th>\n",
              "      <th>action_credit</th>\n",
              "      <th>action_cost</th>\n",
              "      <th>commission</th>\n",
              "      <th>balance</th>\n",
              "      <th>confirmation_num</th>\n",
              "    </tr>\n",
              "  </thead>\n",
              "  <tbody>\n",
              "    <tr>\n",
              "      <th>0</th>\n",
              "      <td>30 בנוב׳ 2014</td>\n",
              "      <td>100 ת\"א MTF</td>\n",
              "      <td>5109889</td>\n",
              "      <td>הפקדה</td>\n",
              "      <td>7028.0</td>\n",
              "      <td>144.65</td>\n",
              "      <td>0.0</td>\n",
              "      <td>0.0</td>\n",
              "      <td>0.0</td>\n",
              "      <td>0.0</td>\n",
              "      <td>995021</td>\n",
              "    </tr>\n",
              "    <tr>\n",
              "      <th>1</th>\n",
              "      <td>30 בנוב׳ 2014</td>\n",
              "      <td>S&amp;P 500 MTF</td>\n",
              "      <td>5117478</td>\n",
              "      <td>הפקדה</td>\n",
              "      <td>14939.0</td>\n",
              "      <td>149.93</td>\n",
              "      <td>0.0</td>\n",
              "      <td>0.0</td>\n",
              "      <td>0.0</td>\n",
              "      <td>0.0</td>\n",
              "      <td>995022</td>\n",
              "    </tr>\n",
              "  </tbody>\n",
              "</table>\n",
              "</div>"
            ],
            "text/plain": [
              "            date   stock_desc  stock_num  ... commission  balance  confirmation_num\n",
              "0  30 בנוב׳ 2014  100 ת\"א MTF    5109889  ...        0.0      0.0            995021\n",
              "1  30 בנוב׳ 2014  S&P 500 MTF    5117478  ...        0.0      0.0            995022\n",
              "\n",
              "[2 rows x 11 columns]"
            ]
          },
          "metadata": {
            "tags": []
          },
          "execution_count": 4
        }
      ]
    },
    {
      "cell_type": "markdown",
      "metadata": {
        "id": "ZkN71SadRvdf",
        "colab_type": "text"
      },
      "source": [
        "Cast 'date' column to date datatype"
      ]
    },
    {
      "cell_type": "code",
      "metadata": {
        "scrolled": true,
        "id": "UyHM9tzTRvdg",
        "colab_type": "code",
        "outputId": "40e4e34c-733c-4f48-e491-55570f5f1d35",
        "colab": {
          "base_uri": "https://localhost:8080/",
          "height": 106
        }
      },
      "source": [
        "months_df = pd.read_excel(path / 'month_translation.xlsx', header = None)\n",
        "month_dict = dict(zip(months_df.iloc[:,0], months_df.iloc[:,1]))\n",
        "df['date'] = df['date'].replace(month_dict, regex=True).replace('ב','' ,regex=True).str.replace(\" \",\"\")\n",
        "df['date'] =  pd.to_datetime(df['date'], format='%d%b%Y')\n",
        "df.head(2)"
      ],
      "execution_count": 5,
      "outputs": [
        {
          "output_type": "execute_result",
          "data": {
            "text/html": [
              "<div>\n",
              "<style scoped>\n",
              "    .dataframe tbody tr th:only-of-type {\n",
              "        vertical-align: middle;\n",
              "    }\n",
              "\n",
              "    .dataframe tbody tr th {\n",
              "        vertical-align: top;\n",
              "    }\n",
              "\n",
              "    .dataframe thead th {\n",
              "        text-align: right;\n",
              "    }\n",
              "</style>\n",
              "<table border=\"1\" class=\"dataframe\">\n",
              "  <thead>\n",
              "    <tr style=\"text-align: right;\">\n",
              "      <th></th>\n",
              "      <th>date</th>\n",
              "      <th>stock_desc</th>\n",
              "      <th>stock_num</th>\n",
              "      <th>action_type</th>\n",
              "      <th>quantity</th>\n",
              "      <th>price</th>\n",
              "      <th>action_credit</th>\n",
              "      <th>action_cost</th>\n",
              "      <th>commission</th>\n",
              "      <th>balance</th>\n",
              "      <th>confirmation_num</th>\n",
              "    </tr>\n",
              "  </thead>\n",
              "  <tbody>\n",
              "    <tr>\n",
              "      <th>0</th>\n",
              "      <td>2014-11-30</td>\n",
              "      <td>100 ת\"א MTF</td>\n",
              "      <td>5109889</td>\n",
              "      <td>הפקדה</td>\n",
              "      <td>7028.0</td>\n",
              "      <td>144.65</td>\n",
              "      <td>0.0</td>\n",
              "      <td>0.0</td>\n",
              "      <td>0.0</td>\n",
              "      <td>0.0</td>\n",
              "      <td>995021</td>\n",
              "    </tr>\n",
              "    <tr>\n",
              "      <th>1</th>\n",
              "      <td>2014-11-30</td>\n",
              "      <td>S&amp;P 500 MTF</td>\n",
              "      <td>5117478</td>\n",
              "      <td>הפקדה</td>\n",
              "      <td>14939.0</td>\n",
              "      <td>149.93</td>\n",
              "      <td>0.0</td>\n",
              "      <td>0.0</td>\n",
              "      <td>0.0</td>\n",
              "      <td>0.0</td>\n",
              "      <td>995022</td>\n",
              "    </tr>\n",
              "  </tbody>\n",
              "</table>\n",
              "</div>"
            ],
            "text/plain": [
              "        date   stock_desc  stock_num  ... commission  balance  confirmation_num\n",
              "0 2014-11-30  100 ת\"א MTF    5109889  ...        0.0      0.0            995021\n",
              "1 2014-11-30  S&P 500 MTF    5117478  ...        0.0      0.0            995022\n",
              "\n",
              "[2 rows x 11 columns]"
            ]
          },
          "metadata": {
            "tags": []
          },
          "execution_count": 5
        }
      ]
    },
    {
      "cell_type": "markdown",
      "metadata": {
        "id": "mS8_nb_sRvdk",
        "colab_type": "text"
      },
      "source": [
        "A few more things"
      ]
    },
    {
      "cell_type": "code",
      "metadata": {
        "id": "SPDuB5MARvdk",
        "colab_type": "code",
        "outputId": "0a2353ee-7528-4ce5-b473-3d14218dbe77",
        "colab": {
          "base_uri": "https://localhost:8080/",
          "height": 106
        }
      },
      "source": [
        "df[\"stock_desc\"] = df.stock_desc.str.split().str.join(\" \") #Clean extra white spaces in 'stock_desc' column\n",
        "df = df[df['action_type'] != 'העברה'] #delete irrelevant rows\n",
        "df.head(2)"
      ],
      "execution_count": 6,
      "outputs": [
        {
          "output_type": "execute_result",
          "data": {
            "text/html": [
              "<div>\n",
              "<style scoped>\n",
              "    .dataframe tbody tr th:only-of-type {\n",
              "        vertical-align: middle;\n",
              "    }\n",
              "\n",
              "    .dataframe tbody tr th {\n",
              "        vertical-align: top;\n",
              "    }\n",
              "\n",
              "    .dataframe thead th {\n",
              "        text-align: right;\n",
              "    }\n",
              "</style>\n",
              "<table border=\"1\" class=\"dataframe\">\n",
              "  <thead>\n",
              "    <tr style=\"text-align: right;\">\n",
              "      <th></th>\n",
              "      <th>date</th>\n",
              "      <th>stock_desc</th>\n",
              "      <th>stock_num</th>\n",
              "      <th>action_type</th>\n",
              "      <th>quantity</th>\n",
              "      <th>price</th>\n",
              "      <th>action_credit</th>\n",
              "      <th>action_cost</th>\n",
              "      <th>commission</th>\n",
              "      <th>balance</th>\n",
              "      <th>confirmation_num</th>\n",
              "    </tr>\n",
              "  </thead>\n",
              "  <tbody>\n",
              "    <tr>\n",
              "      <th>0</th>\n",
              "      <td>2014-11-30</td>\n",
              "      <td>100 ת\"א MTF</td>\n",
              "      <td>5109889</td>\n",
              "      <td>הפקדה</td>\n",
              "      <td>7028.0</td>\n",
              "      <td>144.65</td>\n",
              "      <td>0.0</td>\n",
              "      <td>0.0</td>\n",
              "      <td>0.0</td>\n",
              "      <td>0.0</td>\n",
              "      <td>995021</td>\n",
              "    </tr>\n",
              "    <tr>\n",
              "      <th>1</th>\n",
              "      <td>2014-11-30</td>\n",
              "      <td>S&amp;P 500 MTF</td>\n",
              "      <td>5117478</td>\n",
              "      <td>הפקדה</td>\n",
              "      <td>14939.0</td>\n",
              "      <td>149.93</td>\n",
              "      <td>0.0</td>\n",
              "      <td>0.0</td>\n",
              "      <td>0.0</td>\n",
              "      <td>0.0</td>\n",
              "      <td>995022</td>\n",
              "    </tr>\n",
              "  </tbody>\n",
              "</table>\n",
              "</div>"
            ],
            "text/plain": [
              "        date   stock_desc  stock_num  ... commission  balance  confirmation_num\n",
              "0 2014-11-30  100 ת\"א MTF    5109889  ...        0.0      0.0            995021\n",
              "1 2014-11-30  S&P 500 MTF    5117478  ...        0.0      0.0            995022\n",
              "\n",
              "[2 rows x 11 columns]"
            ]
          },
          "metadata": {
            "tags": []
          },
          "execution_count": 6
        }
      ]
    },
    {
      "cell_type": "code",
      "metadata": {
        "id": "eRox1JCB1I9z",
        "colab_type": "code",
        "colab": {}
      },
      "source": [
        "#print (df.loc[0,['action_cost','commission','action_credit']])\n",
        "#df.loc[0,['action_cost','commission','action_credit']] == 0.all(1)\n",
        "#df.loc[0,['action_cost','commission','action_credit']].isnull().eq(True, axis=0).all(1)\n"
      ],
      "execution_count": 0,
      "outputs": []
    },
    {
      "cell_type": "markdown",
      "metadata": {
        "id": "cIpvMRohRvdo",
        "colab_type": "text"
      },
      "source": [
        "Get data regarding present state of the portfolio"
      ]
    },
    {
      "cell_type": "code",
      "metadata": {
        "id": "5K50X5JtRvdp",
        "colab_type": "code",
        "outputId": "01fd02c9-a145-4692-9183-37941c9d78ab",
        "colab": {
          "base_uri": "https://localhost:8080/",
          "height": 106
        }
      },
      "source": [
        "present_state = pd.read_excel(path / '25062019_snapshot.xlsx') #import table\n",
        "ps = present_state.loc[:,['שם נייר','מספר נייר','שווי נוכחי']] #leave only relevant columns\n",
        "ps.columns = ['stock_desc','stock_num','value'] #translate columns names\n",
        "ps['date'] = pd.Timestamp('25/06/2019') #add date column\n",
        "ps.head(2)"
      ],
      "execution_count": 0,
      "outputs": [
        {
          "output_type": "execute_result",
          "data": {
            "text/html": [
              "<div>\n",
              "<style scoped>\n",
              "    .dataframe tbody tr th:only-of-type {\n",
              "        vertical-align: middle;\n",
              "    }\n",
              "\n",
              "    .dataframe tbody tr th {\n",
              "        vertical-align: top;\n",
              "    }\n",
              "\n",
              "    .dataframe thead th {\n",
              "        text-align: right;\n",
              "    }\n",
              "</style>\n",
              "<table border=\"1\" class=\"dataframe\">\n",
              "  <thead>\n",
              "    <tr style=\"text-align: right;\">\n",
              "      <th></th>\n",
              "      <th>stock_desc</th>\n",
              "      <th>stock_num</th>\n",
              "      <th>value</th>\n",
              "      <th>date</th>\n",
              "    </tr>\n",
              "  </thead>\n",
              "  <tbody>\n",
              "    <tr>\n",
              "      <th>0</th>\n",
              "      <td>RU DEPOS.קסם</td>\n",
              "      <td>1145770</td>\n",
              "      <td>17430.7</td>\n",
              "      <td>2019-06-25</td>\n",
              "    </tr>\n",
              "    <tr>\n",
              "      <th>1</th>\n",
              "      <td>פסג.תא נדלן</td>\n",
              "      <td>1148691</td>\n",
              "      <td>20510.5</td>\n",
              "      <td>2019-06-25</td>\n",
              "    </tr>\n",
              "  </tbody>\n",
              "</table>\n",
              "</div>"
            ],
            "text/plain": [
              "     stock_desc  stock_num    value       date\n",
              "0  RU DEPOS.קסם    1145770  17430.7 2019-06-25\n",
              "1   פסג.תא נדלן    1148691  20510.5 2019-06-25"
            ]
          },
          "metadata": {
            "tags": []
          },
          "execution_count": 65
        }
      ]
    },
    {
      "cell_type": "markdown",
      "metadata": {
        "id": "qZM8y_h-Rvds",
        "colab_type": "text"
      },
      "source": [
        "Concat portfolio present state to main df"
      ]
    },
    {
      "cell_type": "code",
      "metadata": {
        "id": "dtEh2qCQRvdt",
        "colab_type": "code",
        "outputId": "c6875ce0-5986-45a5-e973-05f1712f744f",
        "colab": {
          "base_uri": "https://localhost:8080/",
          "height": 639
        }
      },
      "source": [
        "df = pd.concat([df,ps.rename(columns={'value':'action_credit'})],axis = 0, sort=False)\n",
        "df.tail(20)"
      ],
      "execution_count": 0,
      "outputs": [
        {
          "output_type": "execute_result",
          "data": {
            "text/html": [
              "<div>\n",
              "<style scoped>\n",
              "    .dataframe tbody tr th:only-of-type {\n",
              "        vertical-align: middle;\n",
              "    }\n",
              "\n",
              "    .dataframe tbody tr th {\n",
              "        vertical-align: top;\n",
              "    }\n",
              "\n",
              "    .dataframe thead th {\n",
              "        text-align: right;\n",
              "    }\n",
              "</style>\n",
              "<table border=\"1\" class=\"dataframe\">\n",
              "  <thead>\n",
              "    <tr style=\"text-align: right;\">\n",
              "      <th></th>\n",
              "      <th>date</th>\n",
              "      <th>stock_desc</th>\n",
              "      <th>stock_num</th>\n",
              "      <th>action_type</th>\n",
              "      <th>quantity</th>\n",
              "      <th>price</th>\n",
              "      <th>action_credit</th>\n",
              "      <th>action_cost</th>\n",
              "      <th>commission</th>\n",
              "      <th>balance</th>\n",
              "      <th>confirmation_num</th>\n",
              "    </tr>\n",
              "  </thead>\n",
              "  <tbody>\n",
              "    <tr>\n",
              "      <th>355</th>\n",
              "      <td>2019-03-31</td>\n",
              "      <td>31/03/19 דמי שימוש/ניהול חשבון</td>\n",
              "      <td>900</td>\n",
              "      <td>ד.טפול</td>\n",
              "      <td>0.0</td>\n",
              "      <td>0.0</td>\n",
              "      <td>0.00</td>\n",
              "      <td>24.0</td>\n",
              "      <td>0.0</td>\n",
              "      <td>9756.49</td>\n",
              "      <td>0.0</td>\n",
              "    </tr>\n",
              "    <tr>\n",
              "      <th>356</th>\n",
              "      <td>2019-03-31</td>\n",
              "      <td>מגן מס</td>\n",
              "      <td>9992983</td>\n",
              "      <td>הפקדה</td>\n",
              "      <td>6.0</td>\n",
              "      <td>100.0</td>\n",
              "      <td>0.00</td>\n",
              "      <td>0.0</td>\n",
              "      <td>0.0</td>\n",
              "      <td>9756.49</td>\n",
              "      <td>0.0</td>\n",
              "    </tr>\n",
              "    <tr>\n",
              "      <th>357</th>\n",
              "      <td>2019-04-30</td>\n",
              "      <td>30/04/19 דמי שימוש/ניהול חשבון</td>\n",
              "      <td>900</td>\n",
              "      <td>ד.טפול</td>\n",
              "      <td>0.0</td>\n",
              "      <td>0.0</td>\n",
              "      <td>0.00</td>\n",
              "      <td>24.0</td>\n",
              "      <td>0.0</td>\n",
              "      <td>9732.49</td>\n",
              "      <td>0.0</td>\n",
              "    </tr>\n",
              "    <tr>\n",
              "      <th>358</th>\n",
              "      <td>2019-04-30</td>\n",
              "      <td>מגן מס</td>\n",
              "      <td>9992983</td>\n",
              "      <td>הפקדה</td>\n",
              "      <td>6.0</td>\n",
              "      <td>100.0</td>\n",
              "      <td>0.00</td>\n",
              "      <td>0.0</td>\n",
              "      <td>0.0</td>\n",
              "      <td>9732.49</td>\n",
              "      <td>0.0</td>\n",
              "    </tr>\n",
              "    <tr>\n",
              "      <th>359</th>\n",
              "      <td>2019-05-31</td>\n",
              "      <td>31/05/19 דמי שימוש/ניהול חשבון</td>\n",
              "      <td>900</td>\n",
              "      <td>ד.טפול</td>\n",
              "      <td>0.0</td>\n",
              "      <td>0.0</td>\n",
              "      <td>0.00</td>\n",
              "      <td>24.0</td>\n",
              "      <td>0.0</td>\n",
              "      <td>9708.49</td>\n",
              "      <td>0.0</td>\n",
              "    </tr>\n",
              "    <tr>\n",
              "      <th>360</th>\n",
              "      <td>2019-05-31</td>\n",
              "      <td>מגן מס</td>\n",
              "      <td>9992983</td>\n",
              "      <td>הפקדה</td>\n",
              "      <td>6.0</td>\n",
              "      <td>100.0</td>\n",
              "      <td>0.00</td>\n",
              "      <td>0.0</td>\n",
              "      <td>0.0</td>\n",
              "      <td>9708.49</td>\n",
              "      <td>0.0</td>\n",
              "    </tr>\n",
              "    <tr>\n",
              "      <th>0</th>\n",
              "      <td>2019-06-25</td>\n",
              "      <td>RU DEPOS.קסם</td>\n",
              "      <td>1145770</td>\n",
              "      <td>NaN</td>\n",
              "      <td>NaN</td>\n",
              "      <td>NaN</td>\n",
              "      <td>17430.70</td>\n",
              "      <td>NaN</td>\n",
              "      <td>NaN</td>\n",
              "      <td>NaN</td>\n",
              "      <td>NaN</td>\n",
              "    </tr>\n",
              "    <tr>\n",
              "      <th>1</th>\n",
              "      <td>2019-06-25</td>\n",
              "      <td>פסג.תא נדלן</td>\n",
              "      <td>1148691</td>\n",
              "      <td>NaN</td>\n",
              "      <td>NaN</td>\n",
              "      <td>NaN</td>\n",
              "      <td>20510.50</td>\n",
              "      <td>NaN</td>\n",
              "      <td>NaN</td>\n",
              "      <td>NaN</td>\n",
              "      <td>NaN</td>\n",
              "    </tr>\n",
              "    <tr>\n",
              "      <th>2</th>\n",
              "      <td>2019-06-25</td>\n",
              "      <td>DAX 30.הרל</td>\n",
              "      <td>1149053</td>\n",
              "      <td>NaN</td>\n",
              "      <td>NaN</td>\n",
              "      <td>NaN</td>\n",
              "      <td>46174.80</td>\n",
              "      <td>NaN</td>\n",
              "      <td>NaN</td>\n",
              "      <td>NaN</td>\n",
              "      <td>NaN</td>\n",
              "    </tr>\n",
              "    <tr>\n",
              "      <th>3</th>\n",
              "      <td>2019-06-25</td>\n",
              "      <td>SP500.MTF</td>\n",
              "      <td>1150333</td>\n",
              "      <td>NaN</td>\n",
              "      <td>NaN</td>\n",
              "      <td>NaN</td>\n",
              "      <td>108001.06</td>\n",
              "      <td>NaN</td>\n",
              "      <td>NaN</td>\n",
              "      <td>NaN</td>\n",
              "      <td>NaN</td>\n",
              "    </tr>\n",
              "    <tr>\n",
              "      <th>4</th>\n",
              "      <td>2019-06-25</td>\n",
              "      <td>MTF מח תא 125</td>\n",
              "      <td>5109889</td>\n",
              "      <td>NaN</td>\n",
              "      <td>NaN</td>\n",
              "      <td>NaN</td>\n",
              "      <td>21197.68</td>\n",
              "      <td>NaN</td>\n",
              "      <td>NaN</td>\n",
              "      <td>NaN</td>\n",
              "      <td>NaN</td>\n",
              "    </tr>\n",
              "    <tr>\n",
              "      <th>5</th>\n",
              "      <td>2019-06-25</td>\n",
              "      <td>PTF תלבונד 60</td>\n",
              "      <td>5112206</td>\n",
              "      <td>NaN</td>\n",
              "      <td>NaN</td>\n",
              "      <td>NaN</td>\n",
              "      <td>10124.61</td>\n",
              "      <td>NaN</td>\n",
              "      <td>NaN</td>\n",
              "      <td>NaN</td>\n",
              "      <td>NaN</td>\n",
              "    </tr>\n",
              "    <tr>\n",
              "      <th>6</th>\n",
              "      <td>2019-06-25</td>\n",
              "      <td>איביאי מחקה תא 125</td>\n",
              "      <td>5113063</td>\n",
              "      <td>NaN</td>\n",
              "      <td>NaN</td>\n",
              "      <td>NaN</td>\n",
              "      <td>33137.57</td>\n",
              "      <td>NaN</td>\n",
              "      <td>NaN</td>\n",
              "      <td>NaN</td>\n",
              "      <td>NaN</td>\n",
              "    </tr>\n",
              "    <tr>\n",
              "      <th>7</th>\n",
              "      <td>2019-06-25</td>\n",
              "      <td>קסם KTF גליל 2-5</td>\n",
              "      <td>5113329</td>\n",
              "      <td>NaN</td>\n",
              "      <td>NaN</td>\n",
              "      <td>NaN</td>\n",
              "      <td>48099.09</td>\n",
              "      <td>NaN</td>\n",
              "      <td>NaN</td>\n",
              "      <td>NaN</td>\n",
              "      <td>NaN</td>\n",
              "    </tr>\n",
              "    <tr>\n",
              "      <th>8</th>\n",
              "      <td>2019-06-25</td>\n",
              "      <td>תכלית TTF מש מניות חול   4</td>\n",
              "      <td>5121322</td>\n",
              "      <td>NaN</td>\n",
              "      <td>NaN</td>\n",
              "      <td>NaN</td>\n",
              "      <td>6264.20</td>\n",
              "      <td>NaN</td>\n",
              "      <td>NaN</td>\n",
              "      <td>NaN</td>\n",
              "      <td>NaN</td>\n",
              "    </tr>\n",
              "    <tr>\n",
              "      <th>9</th>\n",
              "      <td>2019-06-25</td>\n",
              "      <td>הראל HTF תא 125</td>\n",
              "      <td>5122510</td>\n",
              "      <td>NaN</td>\n",
              "      <td>NaN</td>\n",
              "      <td>NaN</td>\n",
              "      <td>53706.45</td>\n",
              "      <td>NaN</td>\n",
              "      <td>NaN</td>\n",
              "      <td>NaN</td>\n",
              "      <td>NaN</td>\n",
              "    </tr>\n",
              "    <tr>\n",
              "      <th>10</th>\n",
              "      <td>2019-06-25</td>\n",
              "      <td>איביאי מחקה 2000 RUSSELL</td>\n",
              "      <td>5124284</td>\n",
              "      <td>NaN</td>\n",
              "      <td>NaN</td>\n",
              "      <td>NaN</td>\n",
              "      <td>84306.17</td>\n",
              "      <td>NaN</td>\n",
              "      <td>NaN</td>\n",
              "      <td>NaN</td>\n",
              "      <td>NaN</td>\n",
              "    </tr>\n",
              "    <tr>\n",
              "      <th>11</th>\n",
              "      <td>2019-06-25</td>\n",
              "      <td>תכלית TTF EURO600 STOX</td>\n",
              "      <td>5124524</td>\n",
              "      <td>NaN</td>\n",
              "      <td>NaN</td>\n",
              "      <td>NaN</td>\n",
              "      <td>89788.43</td>\n",
              "      <td>NaN</td>\n",
              "      <td>NaN</td>\n",
              "      <td>NaN</td>\n",
              "      <td>NaN</td>\n",
              "    </tr>\n",
              "    <tr>\n",
              "      <th>12</th>\n",
              "      <td>2019-06-25</td>\n",
              "      <td>קסם KTF 600 STOX</td>\n",
              "      <td>5125612</td>\n",
              "      <td>NaN</td>\n",
              "      <td>NaN</td>\n",
              "      <td>NaN</td>\n",
              "      <td>21515.47</td>\n",
              "      <td>NaN</td>\n",
              "      <td>NaN</td>\n",
              "      <td>NaN</td>\n",
              "      <td>NaN</td>\n",
              "    </tr>\n",
              "    <tr>\n",
              "      <th>13</th>\n",
              "      <td>2019-06-25</td>\n",
              "      <td>מגן מס</td>\n",
              "      <td>9992983</td>\n",
              "      <td>NaN</td>\n",
              "      <td>NaN</td>\n",
              "      <td>NaN</td>\n",
              "      <td>0.00</td>\n",
              "      <td>NaN</td>\n",
              "      <td>NaN</td>\n",
              "      <td>NaN</td>\n",
              "      <td>NaN</td>\n",
              "    </tr>\n",
              "  </tbody>\n",
              "</table>\n",
              "</div>"
            ],
            "text/plain": [
              "          date                      stock_desc  ...  balance confirmation_num\n",
              "355 2019-03-31  31/03/19 דמי שימוש/ניהול חשבון  ...  9756.49              0.0\n",
              "356 2019-03-31                          מגן מס  ...  9756.49              0.0\n",
              "357 2019-04-30  30/04/19 דמי שימוש/ניהול חשבון  ...  9732.49              0.0\n",
              "358 2019-04-30                          מגן מס  ...  9732.49              0.0\n",
              "359 2019-05-31  31/05/19 דמי שימוש/ניהול חשבון  ...  9708.49              0.0\n",
              "360 2019-05-31                          מגן מס  ...  9708.49              0.0\n",
              "0   2019-06-25                    RU DEPOS.קסם  ...      NaN              NaN\n",
              "1   2019-06-25                     פסג.תא נדלן  ...      NaN              NaN\n",
              "2   2019-06-25                      DAX 30.הרל  ...      NaN              NaN\n",
              "3   2019-06-25                       SP500.MTF  ...      NaN              NaN\n",
              "4   2019-06-25                   MTF מח תא 125  ...      NaN              NaN\n",
              "5   2019-06-25                   PTF תלבונד 60  ...      NaN              NaN\n",
              "6   2019-06-25              איביאי מחקה תא 125  ...      NaN              NaN\n",
              "7   2019-06-25                קסם KTF גליל 2-5  ...      NaN              NaN\n",
              "8   2019-06-25      תכלית TTF מש מניות חול   4  ...      NaN              NaN\n",
              "9   2019-06-25                 הראל HTF תא 125  ...      NaN              NaN\n",
              "10  2019-06-25        איביאי מחקה 2000 RUSSELL  ...      NaN              NaN\n",
              "11  2019-06-25          תכלית TTF EURO600 STOX  ...      NaN              NaN\n",
              "12  2019-06-25                קסם KTF 600 STOX  ...      NaN              NaN\n",
              "13  2019-06-25                          מגן מס  ...      NaN              NaN\n",
              "\n",
              "[20 rows x 11 columns]"
            ]
          },
          "metadata": {
            "tags": []
          },
          "execution_count": 66
        }
      ]
    },
    {
      "cell_type": "markdown",
      "metadata": {
        "id": "xot4wn9oRvdx",
        "colab_type": "text"
      },
      "source": [
        "Create df_xirr dataframe in a format that xirr() function acceptes"
      ]
    },
    {
      "cell_type": "code",
      "metadata": {
        "id": "ny3hNnm3Rvdy",
        "colab_type": "code",
        "outputId": "88f103bf-7fdf-4b25-826e-9ab8b76b13b3",
        "colab": {
          "base_uri": "https://localhost:8080/",
          "height": 195
        }
      },
      "source": [
        "yahav_df = pd.DataFrame({'date':pd.Timestamp('20/10/2014'), 'value': -120000}, index = [0])\n",
        "df_cost = df.loc[:,['date','action_cost','commission']]\n",
        "df_cost['action_cost'] = (df_cost['action_cost'] + df_cost['commission']) *-1\n",
        "df_cost = df_cost.loc[:,['date','action_cost']]\n",
        "df_credit = df.loc[:,['date','action_credit']]\n",
        "df_xirr = pd.concat([yahav_df,df_cost.rename(columns={'action_cost':'value'}),df_credit.rename(columns={'action_credit':'value'})], axis = 0)\n",
        "df_xirr = df_xirr[df_xirr.value != 0]\n",
        "df_xirr.head()"
      ],
      "execution_count": 0,
      "outputs": [
        {
          "output_type": "execute_result",
          "data": {
            "text/html": [
              "<div>\n",
              "<style scoped>\n",
              "    .dataframe tbody tr th:only-of-type {\n",
              "        vertical-align: middle;\n",
              "    }\n",
              "\n",
              "    .dataframe tbody tr th {\n",
              "        vertical-align: top;\n",
              "    }\n",
              "\n",
              "    .dataframe thead th {\n",
              "        text-align: right;\n",
              "    }\n",
              "</style>\n",
              "<table border=\"1\" class=\"dataframe\">\n",
              "  <thead>\n",
              "    <tr style=\"text-align: right;\">\n",
              "      <th></th>\n",
              "      <th>date</th>\n",
              "      <th>value</th>\n",
              "    </tr>\n",
              "  </thead>\n",
              "  <tbody>\n",
              "    <tr>\n",
              "      <th>0</th>\n",
              "      <td>2014-10-20</td>\n",
              "      <td>-120000.00</td>\n",
              "    </tr>\n",
              "    <tr>\n",
              "      <th>8</th>\n",
              "      <td>2015-01-13</td>\n",
              "      <td>-751.76</td>\n",
              "    </tr>\n",
              "    <tr>\n",
              "      <th>10</th>\n",
              "      <td>2015-01-31</td>\n",
              "      <td>-21.65</td>\n",
              "    </tr>\n",
              "    <tr>\n",
              "      <th>12</th>\n",
              "      <td>2015-02-01</td>\n",
              "      <td>-7005.03</td>\n",
              "    </tr>\n",
              "    <tr>\n",
              "      <th>13</th>\n",
              "      <td>2015-02-02</td>\n",
              "      <td>-1003.55</td>\n",
              "    </tr>\n",
              "  </tbody>\n",
              "</table>\n",
              "</div>"
            ],
            "text/plain": [
              "         date      value\n",
              "0  2014-10-20 -120000.00\n",
              "8  2015-01-13    -751.76\n",
              "10 2015-01-31     -21.65\n",
              "12 2015-02-01   -7005.03\n",
              "13 2015-02-02   -1003.55"
            ]
          },
          "metadata": {
            "tags": []
          },
          "execution_count": 86
        }
      ]
    },
    {
      "cell_type": "code",
      "metadata": {
        "id": "GPow0FMbLBhI",
        "colab_type": "code",
        "colab": {}
      },
      "source": [
        "#df_xirr.to_excel(path /'df_xirr.xlsx')"
      ],
      "execution_count": 0,
      "outputs": []
    },
    {
      "cell_type": "code",
      "metadata": {
        "id": "Qkyl1WskRvd1",
        "colab_type": "code",
        "colab": {}
      },
      "source": [
        "tuples_xirr = [tuple(row) for row in df_xirr.values]\n",
        "xirr(tuples_xirr)*100"
      ],
      "execution_count": 0,
      "outputs": []
    },
    {
      "cell_type": "code",
      "metadata": {
        "id": "g8q4pRjkRvd5",
        "colab_type": "code",
        "colab": {}
      },
      "source": [
        "tuples_xirr"
      ],
      "execution_count": 0,
      "outputs": []
    },
    {
      "cell_type": "code",
      "metadata": {
        "id": "CVB5d3Gg_gjm",
        "colab_type": "code",
        "outputId": "068c2f65-691f-4225-b646-047b05e0db3f",
        "colab": {
          "base_uri": "https://localhost:8080/",
          "height": 54
        }
      },
      "source": [
        "import sys\n",
        "print(sys.path)"
      ],
      "execution_count": 0,
      "outputs": [
        {
          "output_type": "stream",
          "text": [
            "['', '/env/python', '/usr/lib/python36.zip', '/usr/lib/python3.6', '/usr/lib/python3.6/lib-dynload', '/usr/local/lib/python3.6/dist-packages', '/usr/lib/python3/dist-packages', '/usr/local/lib/python3.6/dist-packages/IPython/extensions', '/root/.ipython']\n"
          ],
          "name": "stdout"
        }
      ]
    },
    {
      "cell_type": "code",
      "metadata": {
        "id": "ogcuNWWURvd7",
        "colab_type": "code",
        "colab": {}
      },
      "source": [
        ""
      ],
      "execution_count": 0,
      "outputs": []
    }
  ]
}