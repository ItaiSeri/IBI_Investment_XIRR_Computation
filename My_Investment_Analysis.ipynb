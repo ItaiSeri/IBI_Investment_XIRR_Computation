{
 "cells": [
  {
   "cell_type": "code",
   "execution_count": 45,
   "metadata": {},
   "outputs": [],
   "source": [
    "import numpy as np\n",
    "import pandas as pd\n",
    "import matplotlib.pyplot as plt\n",
    "from pathlib import Path\n",
    "from glob import glob\n",
    "from ipynb.fs.full.MyFunctions import xirr #Import 'xirr' function from another notebook\n",
    "\n",
    "\n",
    "#path = Path(\"F:/Dowloads/investment/\")\n",
    "path = Path(\"C:/Users/Itai/Git/My_Investment_Analysis/My_Investment_Analysis/Investment_Raw_Data/\") #Change to local directory on machine after downloading Investment_Raw_Data folder\n",
    "\n",
    "filenames = path.glob('data*.xlsx') "
   ]
  },
  {
   "cell_type": "markdown",
   "metadata": {},
   "source": [
    "### Importing Data"
   ]
  },
  {
   "cell_type": "code",
   "execution_count": 46,
   "metadata": {},
   "outputs": [
    {
     "data": {
      "text/html": [
       "<div>\n",
       "<style scoped>\n",
       "    .dataframe tbody tr th:only-of-type {\n",
       "        vertical-align: middle;\n",
       "    }\n",
       "\n",
       "    .dataframe tbody tr th {\n",
       "        vertical-align: top;\n",
       "    }\n",
       "\n",
       "    .dataframe thead th {\n",
       "        text-align: right;\n",
       "    }\n",
       "</style>\n",
       "<table border=\"1\" class=\"dataframe\">\n",
       "  <thead>\n",
       "    <tr style=\"text-align: right;\">\n",
       "      <th></th>\n",
       "      <th>תאריך</th>\n",
       "      <th>נייר/תנועה</th>\n",
       "      <th>מס' נייר/תנועה</th>\n",
       "      <th>פעולה</th>\n",
       "      <th>כמות</th>\n",
       "      <th>מחיר</th>\n",
       "      <th>זכות נטו</th>\n",
       "      <th>חובה נטו</th>\n",
       "      <th>עמלה</th>\n",
       "      <th>יתרה</th>\n",
       "      <th>אסמכתא</th>\n",
       "    </tr>\n",
       "  </thead>\n",
       "  <tbody>\n",
       "    <tr>\n",
       "      <th>0</th>\n",
       "      <td>30 בנוב׳ 2014</td>\n",
       "      <td>100 ת\"א MTF</td>\n",
       "      <td>5109889</td>\n",
       "      <td>הפקדה</td>\n",
       "      <td>7028.0</td>\n",
       "      <td>144.65</td>\n",
       "      <td>0.0</td>\n",
       "      <td>0.0</td>\n",
       "      <td>0.0</td>\n",
       "      <td>0.0</td>\n",
       "      <td>995021</td>\n",
       "    </tr>\n",
       "    <tr>\n",
       "      <th>1</th>\n",
       "      <td>30 בנוב׳ 2014</td>\n",
       "      <td>S&amp;P 500 MTF</td>\n",
       "      <td>5117478</td>\n",
       "      <td>הפקדה</td>\n",
       "      <td>14939.0</td>\n",
       "      <td>149.93</td>\n",
       "      <td>0.0</td>\n",
       "      <td>0.0</td>\n",
       "      <td>0.0</td>\n",
       "      <td>0.0</td>\n",
       "      <td>995022</td>\n",
       "    </tr>\n",
       "  </tbody>\n",
       "</table>\n",
       "</div>"
      ],
      "text/plain": [
       "           תאריך   נייר/תנועה  מס' נייר/תנועה  פעולה     כמות    מחיר  \\\n",
       "0  30 בנוב׳ 2014  100 ת\"א MTF         5109889  הפקדה   7028.0  144.65   \n",
       "1  30 בנוב׳ 2014  S&P 500 MTF         5117478  הפקדה  14939.0  149.93   \n",
       "\n",
       "   זכות נטו  חובה נטו  עמלה  יתרה  אסמכתא  \n",
       "0       0.0       0.0   0.0   0.0  995021  \n",
       "1       0.0       0.0   0.0   0.0  995022  "
      ]
     },
     "execution_count": 46,
     "metadata": {},
     "output_type": "execute_result"
    }
   ],
   "source": [
    "df = pd.DataFrame() #main df\n",
    "for f in filenames: #Append Excel filenames into one DataFrame\n",
    "    df = df.append(pd.read_excel(f))\n",
    "df = df.reset_index(drop=True)\n",
    "df.head(2)"
   ]
  },
  {
   "cell_type": "code",
   "execution_count": 47,
   "metadata": {},
   "outputs": [
    {
     "data": {
      "text/html": [
       "<div>\n",
       "<style scoped>\n",
       "    .dataframe tbody tr th:only-of-type {\n",
       "        vertical-align: middle;\n",
       "    }\n",
       "\n",
       "    .dataframe tbody tr th {\n",
       "        vertical-align: top;\n",
       "    }\n",
       "\n",
       "    .dataframe thead th {\n",
       "        text-align: right;\n",
       "    }\n",
       "</style>\n",
       "<table border=\"1\" class=\"dataframe\">\n",
       "  <thead>\n",
       "    <tr style=\"text-align: right;\">\n",
       "      <th></th>\n",
       "      <th>0</th>\n",
       "      <th>1</th>\n",
       "    </tr>\n",
       "  </thead>\n",
       "  <tbody>\n",
       "    <tr>\n",
       "      <th>0</th>\n",
       "      <td>ינו</td>\n",
       "      <td>jan</td>\n",
       "    </tr>\n",
       "    <tr>\n",
       "      <th>1</th>\n",
       "      <td>פבר</td>\n",
       "      <td>feb</td>\n",
       "    </tr>\n",
       "  </tbody>\n",
       "</table>\n",
       "</div>"
      ],
      "text/plain": [
       "     0    1\n",
       "0  ינו  jan\n",
       "1  פבר  feb"
      ]
     },
     "execution_count": 47,
     "metadata": {},
     "output_type": "execute_result"
    }
   ],
   "source": [
    "months_df = pd.read_excel(path / 'month_translation.xlsx', header = None) #months df for translation\n",
    "months_df.head(2)"
   ]
  },
  {
   "cell_type": "code",
   "execution_count": 48,
   "metadata": {},
   "outputs": [
    {
     "data": {
      "text/html": [
       "<div>\n",
       "<style scoped>\n",
       "    .dataframe tbody tr th:only-of-type {\n",
       "        vertical-align: middle;\n",
       "    }\n",
       "\n",
       "    .dataframe tbody tr th {\n",
       "        vertical-align: top;\n",
       "    }\n",
       "\n",
       "    .dataframe thead th {\n",
       "        text-align: right;\n",
       "    }\n",
       "</style>\n",
       "<table border=\"1\" class=\"dataframe\">\n",
       "  <thead>\n",
       "    <tr style=\"text-align: right;\">\n",
       "      <th></th>\n",
       "      <th>שם נייר</th>\n",
       "      <th>מספר נייר</th>\n",
       "      <th>סימבול</th>\n",
       "      <th>מטבע</th>\n",
       "      <th>כמות נוכחית</th>\n",
       "      <th>שער</th>\n",
       "      <th>שווי נוכחי</th>\n",
       "      <th>רווח/הפסד יומי</th>\n",
       "      <th>שינוי מעלות</th>\n",
       "      <th>שינוי מעלות ב%</th>\n",
       "      <th>עלות</th>\n",
       "      <th>אחוז אחזקה</th>\n",
       "    </tr>\n",
       "  </thead>\n",
       "  <tbody>\n",
       "    <tr>\n",
       "      <th>0</th>\n",
       "      <td>RU DEPOS.קסם</td>\n",
       "      <td>1145770</td>\n",
       "      <td>קסם.ס65</td>\n",
       "      <td>שקל חדש                    000</td>\n",
       "      <td>259.0</td>\n",
       "      <td>6730.0</td>\n",
       "      <td>17430.7</td>\n",
       "      <td>44.03</td>\n",
       "      <td>7507.62</td>\n",
       "      <td>75.66</td>\n",
       "      <td>9923.08</td>\n",
       "      <td>3.06</td>\n",
       "    </tr>\n",
       "    <tr>\n",
       "      <th>1</th>\n",
       "      <td>פסג.תא נדלן</td>\n",
       "      <td>1148691</td>\n",
       "      <td>פסג.ס37</td>\n",
       "      <td>שקל חדש                    000</td>\n",
       "      <td>3321.0</td>\n",
       "      <td>617.6</td>\n",
       "      <td>20510.5</td>\n",
       "      <td>-13.28</td>\n",
       "      <td>6507.57</td>\n",
       "      <td>46.47</td>\n",
       "      <td>14002.93</td>\n",
       "      <td>3.60</td>\n",
       "    </tr>\n",
       "  </tbody>\n",
       "</table>\n",
       "</div>"
      ],
      "text/plain": [
       "        שם נייר  מספר נייר   סימבול                            מטבע  \\\n",
       "0  RU DEPOS.קסם    1145770  קסם.ס65  שקל חדש                    000   \n",
       "1   פסג.תא נדלן    1148691  פסג.ס37  שקל חדש                    000   \n",
       "\n",
       "   כמות נוכחית     שער  שווי נוכחי  רווח/הפסד יומי  שינוי מעלות  \\\n",
       "0        259.0  6730.0     17430.7           44.03      7507.62   \n",
       "1       3321.0   617.6     20510.5          -13.28      6507.57   \n",
       "\n",
       "   שינוי מעלות ב%      עלות  אחוז אחזקה  \n",
       "0           75.66   9923.08        3.06  \n",
       "1           46.47  14002.93        3.60  "
      ]
     },
     "execution_count": 48,
     "metadata": {},
     "output_type": "execute_result"
    }
   ],
   "source": [
    "present_state = pd.read_excel(path / '25062019_snapshot.xlsx') #Present state of portfolio\n",
    "present_state.head(2)"
   ]
  },
  {
   "cell_type": "markdown",
   "metadata": {},
   "source": [
    "### Rename Coulumns"
   ]
  },
  {
   "cell_type": "markdown",
   "metadata": {},
   "source": [
    "Translate Columns from Hebrew to English"
   ]
  },
  {
   "cell_type": "code",
   "execution_count": 49,
   "metadata": {},
   "outputs": [
    {
     "data": {
      "text/html": [
       "<div>\n",
       "<style scoped>\n",
       "    .dataframe tbody tr th:only-of-type {\n",
       "        vertical-align: middle;\n",
       "    }\n",
       "\n",
       "    .dataframe tbody tr th {\n",
       "        vertical-align: top;\n",
       "    }\n",
       "\n",
       "    .dataframe thead th {\n",
       "        text-align: right;\n",
       "    }\n",
       "</style>\n",
       "<table border=\"1\" class=\"dataframe\">\n",
       "  <thead>\n",
       "    <tr style=\"text-align: right;\">\n",
       "      <th></th>\n",
       "      <th>date</th>\n",
       "      <th>stock_desc</th>\n",
       "      <th>stock_num</th>\n",
       "      <th>action_type</th>\n",
       "      <th>quantity</th>\n",
       "      <th>price</th>\n",
       "      <th>action_credit</th>\n",
       "      <th>action_cost</th>\n",
       "      <th>commission</th>\n",
       "      <th>balance</th>\n",
       "      <th>confirmation_num</th>\n",
       "    </tr>\n",
       "  </thead>\n",
       "  <tbody>\n",
       "    <tr>\n",
       "      <th>0</th>\n",
       "      <td>30 בנוב׳ 2014</td>\n",
       "      <td>100 ת\"א MTF</td>\n",
       "      <td>5109889</td>\n",
       "      <td>הפקדה</td>\n",
       "      <td>7028.0</td>\n",
       "      <td>144.65</td>\n",
       "      <td>0.0</td>\n",
       "      <td>0.0</td>\n",
       "      <td>0.0</td>\n",
       "      <td>0.0</td>\n",
       "      <td>995021</td>\n",
       "    </tr>\n",
       "    <tr>\n",
       "      <th>1</th>\n",
       "      <td>30 בנוב׳ 2014</td>\n",
       "      <td>S&amp;P 500 MTF</td>\n",
       "      <td>5117478</td>\n",
       "      <td>הפקדה</td>\n",
       "      <td>14939.0</td>\n",
       "      <td>149.93</td>\n",
       "      <td>0.0</td>\n",
       "      <td>0.0</td>\n",
       "      <td>0.0</td>\n",
       "      <td>0.0</td>\n",
       "      <td>995022</td>\n",
       "    </tr>\n",
       "  </tbody>\n",
       "</table>\n",
       "</div>"
      ],
      "text/plain": [
       "            date   stock_desc  stock_num action_type  quantity   price  \\\n",
       "0  30 בנוב׳ 2014  100 ת\"א MTF    5109889       הפקדה    7028.0  144.65   \n",
       "1  30 בנוב׳ 2014  S&P 500 MTF    5117478       הפקדה   14939.0  149.93   \n",
       "\n",
       "   action_credit  action_cost  commission  balance  confirmation_num  \n",
       "0            0.0          0.0         0.0      0.0            995021  \n",
       "1            0.0          0.0         0.0      0.0            995022  "
      ]
     },
     "execution_count": 49,
     "metadata": {},
     "output_type": "execute_result"
    }
   ],
   "source": [
    "old_cols = list (df.columns)\n",
    "new_cols = ['date','stock_desc','stock_num','action_type','quantity','price','action_credit','action_cost','commission','balance','confirmation_num']\n",
    "new_cols_dict = dict(zip(old_cols, new_cols))\n",
    "df.rename(columns =new_cols_dict,inplace=True)\n",
    "df.head(2)"
   ]
  },
  {
   "cell_type": "markdown",
   "metadata": {},
   "source": [
    "### Data Cleaning & Casting"
   ]
  },
  {
   "cell_type": "markdown",
   "metadata": {},
   "source": [
    "Cast 'date' column to date datatype"
   ]
  },
  {
   "cell_type": "code",
   "execution_count": 50,
   "metadata": {
    "scrolled": true
   },
   "outputs": [
    {
     "data": {
      "text/html": [
       "<div>\n",
       "<style scoped>\n",
       "    .dataframe tbody tr th:only-of-type {\n",
       "        vertical-align: middle;\n",
       "    }\n",
       "\n",
       "    .dataframe tbody tr th {\n",
       "        vertical-align: top;\n",
       "    }\n",
       "\n",
       "    .dataframe thead th {\n",
       "        text-align: right;\n",
       "    }\n",
       "</style>\n",
       "<table border=\"1\" class=\"dataframe\">\n",
       "  <thead>\n",
       "    <tr style=\"text-align: right;\">\n",
       "      <th></th>\n",
       "      <th>date</th>\n",
       "      <th>stock_desc</th>\n",
       "      <th>stock_num</th>\n",
       "      <th>action_type</th>\n",
       "      <th>quantity</th>\n",
       "      <th>price</th>\n",
       "      <th>action_credit</th>\n",
       "      <th>action_cost</th>\n",
       "      <th>commission</th>\n",
       "      <th>balance</th>\n",
       "      <th>confirmation_num</th>\n",
       "    </tr>\n",
       "  </thead>\n",
       "  <tbody>\n",
       "    <tr>\n",
       "      <th>0</th>\n",
       "      <td>2014-11-30</td>\n",
       "      <td>100 ת\"א MTF</td>\n",
       "      <td>5109889</td>\n",
       "      <td>הפקדה</td>\n",
       "      <td>7028.0</td>\n",
       "      <td>144.65</td>\n",
       "      <td>0.0</td>\n",
       "      <td>0.0</td>\n",
       "      <td>0.0</td>\n",
       "      <td>0.0</td>\n",
       "      <td>995021</td>\n",
       "    </tr>\n",
       "    <tr>\n",
       "      <th>1</th>\n",
       "      <td>2014-11-30</td>\n",
       "      <td>S&amp;P 500 MTF</td>\n",
       "      <td>5117478</td>\n",
       "      <td>הפקדה</td>\n",
       "      <td>14939.0</td>\n",
       "      <td>149.93</td>\n",
       "      <td>0.0</td>\n",
       "      <td>0.0</td>\n",
       "      <td>0.0</td>\n",
       "      <td>0.0</td>\n",
       "      <td>995022</td>\n",
       "    </tr>\n",
       "  </tbody>\n",
       "</table>\n",
       "</div>"
      ],
      "text/plain": [
       "        date   stock_desc  stock_num action_type  quantity   price  \\\n",
       "0 2014-11-30  100 ת\"א MTF    5109889       הפקדה    7028.0  144.65   \n",
       "1 2014-11-30  S&P 500 MTF    5117478       הפקדה   14939.0  149.93   \n",
       "\n",
       "   action_credit  action_cost  commission  balance  confirmation_num  \n",
       "0            0.0          0.0         0.0      0.0            995021  \n",
       "1            0.0          0.0         0.0      0.0            995022  "
      ]
     },
     "execution_count": 50,
     "metadata": {},
     "output_type": "execute_result"
    }
   ],
   "source": [
    "month_dict = dict(zip(months_df.iloc[:,0], months_df.iloc[:,1]))\n",
    "df['date'] = df['date'].replace(month_dict, regex=True).replace('ב','' ,regex=True).str.replace(\" \",\"\")\n",
    "df['date'] =  pd.to_datetime(df['date'], format='%d%b%Y')\n",
    "df.head(2)"
   ]
  },
  {
   "cell_type": "markdown",
   "metadata": {},
   "source": [
    "Clean extra white spaces in 'stock_desc' column"
   ]
  },
  {
   "cell_type": "code",
   "execution_count": 51,
   "metadata": {},
   "outputs": [],
   "source": [
    "df[\"stock_desc\"] = df.stock_desc.str.split().str.join(\" \") "
   ]
  },
  {
   "cell_type": "markdown",
   "metadata": {},
   "source": [
    "### Dropping Irrelevant Rows"
   ]
  },
  {
   "cell_type": "code",
   "execution_count": 52,
   "metadata": {},
   "outputs": [
    {
     "data": {
      "text/plain": [
       "(הפקדה     88\n",
       " קניה      58\n",
       " מכירה     56\n",
       " ד.טפול    50\n",
       " משיכה     25\n",
       " העברה     21\n",
       " ריבית     15\n",
       " ה/המרה    13\n",
       " ק/רצף     12\n",
       " עמלה       6\n",
       " דיבדנד     5\n",
       " פדיון      5\n",
       " מ/המרה     4\n",
       " פד/מלא     3\n",
       " Name: action_type, dtype: int64, (361, 11))"
      ]
     },
     "execution_count": 52,
     "metadata": {},
     "output_type": "execute_result"
    }
   ],
   "source": [
    "df.action_type.value_counts(),df.shape #graph this!!"
   ]
  },
  {
   "cell_type": "code",
   "execution_count": 53,
   "metadata": {},
   "outputs": [],
   "source": [
    "#df=df[df.stock_num==5119128]"
   ]
  },
  {
   "cell_type": "markdown",
   "metadata": {},
   "source": [
    "Drop rows where 'action_type' is הפקדה and in 'stock_desc' contain the word 'מס'. They don't add any value"
   ]
  },
  {
   "cell_type": "code",
   "execution_count": 54,
   "metadata": {},
   "outputs": [],
   "source": [
    "df=df[~((df['stock_desc'].str.contains('מס')) & (df['action_type']=='הפקדה'))]"
   ]
  },
  {
   "cell_type": "markdown",
   "metadata": {},
   "source": [
    "More rows to delete"
   ]
  },
  {
   "cell_type": "code",
   "execution_count": 55,
   "metadata": {},
   "outputs": [
    {
     "data": {
      "text/html": [
       "<div>\n",
       "<style scoped>\n",
       "    .dataframe tbody tr th:only-of-type {\n",
       "        vertical-align: middle;\n",
       "    }\n",
       "\n",
       "    .dataframe tbody tr th {\n",
       "        vertical-align: top;\n",
       "    }\n",
       "\n",
       "    .dataframe thead th {\n",
       "        text-align: right;\n",
       "    }\n",
       "</style>\n",
       "<table border=\"1\" class=\"dataframe\">\n",
       "  <thead>\n",
       "    <tr style=\"text-align: right;\">\n",
       "      <th></th>\n",
       "      <th>date</th>\n",
       "      <th>stock_desc</th>\n",
       "      <th>stock_num</th>\n",
       "      <th>action_type</th>\n",
       "      <th>quantity</th>\n",
       "      <th>price</th>\n",
       "      <th>action_credit</th>\n",
       "      <th>action_cost</th>\n",
       "      <th>commission</th>\n",
       "      <th>balance</th>\n",
       "      <th>confirmation_num</th>\n",
       "    </tr>\n",
       "  </thead>\n",
       "  <tbody>\n",
       "    <tr>\n",
       "      <th>0</th>\n",
       "      <td>2014-11-30</td>\n",
       "      <td>100 ת\"א MTF</td>\n",
       "      <td>5109889</td>\n",
       "      <td>הפקדה</td>\n",
       "      <td>7028.0</td>\n",
       "      <td>144.65</td>\n",
       "      <td>0.0</td>\n",
       "      <td>0.0</td>\n",
       "      <td>0.0</td>\n",
       "      <td>0.0</td>\n",
       "      <td>995021</td>\n",
       "    </tr>\n",
       "    <tr>\n",
       "      <th>1</th>\n",
       "      <td>2014-11-30</td>\n",
       "      <td>S&amp;P 500 MTF</td>\n",
       "      <td>5117478</td>\n",
       "      <td>הפקדה</td>\n",
       "      <td>14939.0</td>\n",
       "      <td>149.93</td>\n",
       "      <td>0.0</td>\n",
       "      <td>0.0</td>\n",
       "      <td>0.0</td>\n",
       "      <td>0.0</td>\n",
       "      <td>995022</td>\n",
       "    </tr>\n",
       "  </tbody>\n",
       "</table>\n",
       "</div>"
      ],
      "text/plain": [
       "        date   stock_desc  stock_num action_type  quantity   price  \\\n",
       "0 2014-11-30  100 ת\"א MTF    5109889       הפקדה    7028.0  144.65   \n",
       "1 2014-11-30  S&P 500 MTF    5117478       הפקדה   14939.0  149.93   \n",
       "\n",
       "   action_credit  action_cost  commission  balance  confirmation_num  \n",
       "0            0.0          0.0         0.0      0.0            995021  \n",
       "1            0.0          0.0         0.0      0.0            995022  "
      ]
     },
     "execution_count": 55,
     "metadata": {},
     "output_type": "execute_result"
    }
   ],
   "source": [
    "more_rows_to_delete=['משיכה','העברה','ה/המרה','מ/המרה'] \n",
    "df=df[~df['action_type'].isin(more_rows_to_delete)]\n",
    "df.head(2)"
   ]
  },
  {
   "cell_type": "code",
   "execution_count": 56,
   "metadata": {},
   "outputs": [
    {
     "data": {
      "text/plain": [
       "(214, 11)"
      ]
     },
     "execution_count": 56,
     "metadata": {},
     "output_type": "execute_result"
    }
   ],
   "source": [
    "df.shape"
   ]
  },
  {
   "cell_type": "markdown",
   "metadata": {},
   "source": [
    "### Updating Values For Some Rows"
   ]
  },
  {
   "cell_type": "code",
   "execution_count": 57,
   "metadata": {},
   "outputs": [
    {
     "data": {
      "text/html": [
       "<div>\n",
       "<style scoped>\n",
       "    .dataframe tbody tr th:only-of-type {\n",
       "        vertical-align: middle;\n",
       "    }\n",
       "\n",
       "    .dataframe tbody tr th {\n",
       "        vertical-align: top;\n",
       "    }\n",
       "\n",
       "    .dataframe thead th {\n",
       "        text-align: right;\n",
       "    }\n",
       "</style>\n",
       "<table border=\"1\" class=\"dataframe\">\n",
       "  <thead>\n",
       "    <tr style=\"text-align: right;\">\n",
       "      <th></th>\n",
       "      <th>date</th>\n",
       "      <th>stock_desc</th>\n",
       "      <th>stock_num</th>\n",
       "      <th>action_type</th>\n",
       "      <th>quantity</th>\n",
       "      <th>price</th>\n",
       "      <th>action_credit</th>\n",
       "      <th>action_cost</th>\n",
       "      <th>commission</th>\n",
       "      <th>balance</th>\n",
       "      <th>confirmation_num</th>\n",
       "    </tr>\n",
       "  </thead>\n",
       "  <tbody>\n",
       "    <tr>\n",
       "      <th>0</th>\n",
       "      <td>2014-11-30</td>\n",
       "      <td>100 ת\"א MTF</td>\n",
       "      <td>5109889</td>\n",
       "      <td>הפקדה</td>\n",
       "      <td>7028.0</td>\n",
       "      <td>144.65</td>\n",
       "      <td>0.0</td>\n",
       "      <td>10166.0020</td>\n",
       "      <td>0.0</td>\n",
       "      <td>0.0</td>\n",
       "      <td>995021</td>\n",
       "    </tr>\n",
       "    <tr>\n",
       "      <th>1</th>\n",
       "      <td>2014-11-30</td>\n",
       "      <td>S&amp;P 500 MTF</td>\n",
       "      <td>5117478</td>\n",
       "      <td>הפקדה</td>\n",
       "      <td>14939.0</td>\n",
       "      <td>149.93</td>\n",
       "      <td>0.0</td>\n",
       "      <td>22398.0427</td>\n",
       "      <td>0.0</td>\n",
       "      <td>0.0</td>\n",
       "      <td>995022</td>\n",
       "    </tr>\n",
       "  </tbody>\n",
       "</table>\n",
       "</div>"
      ],
      "text/plain": [
       "        date   stock_desc  stock_num action_type  quantity   price  \\\n",
       "0 2014-11-30  100 ת\"א MTF    5109889       הפקדה    7028.0  144.65   \n",
       "1 2014-11-30  S&P 500 MTF    5117478       הפקדה   14939.0  149.93   \n",
       "\n",
       "   action_credit  action_cost  commission  balance  confirmation_num  \n",
       "0            0.0   10166.0020         0.0      0.0            995021  \n",
       "1            0.0   22398.0427         0.0      0.0            995022  "
      ]
     },
     "execution_count": 57,
     "metadata": {},
     "output_type": "execute_result"
    }
   ],
   "source": [
    "df.loc[df.action_type=='הפקדה','action_cost'] =(df.quantity * df.price)/100 #Securities I've already had in possession, held in a different account\n",
    "df.head(2)"
   ]
  },
  {
   "cell_type": "markdown",
   "metadata": {},
   "source": [
    "### Present State df"
   ]
  },
  {
   "cell_type": "code",
   "execution_count": 58,
   "metadata": {},
   "outputs": [
    {
     "data": {
      "text/html": [
       "<div>\n",
       "<style scoped>\n",
       "    .dataframe tbody tr th:only-of-type {\n",
       "        vertical-align: middle;\n",
       "    }\n",
       "\n",
       "    .dataframe tbody tr th {\n",
       "        vertical-align: top;\n",
       "    }\n",
       "\n",
       "    .dataframe thead th {\n",
       "        text-align: right;\n",
       "    }\n",
       "</style>\n",
       "<table border=\"1\" class=\"dataframe\">\n",
       "  <thead>\n",
       "    <tr style=\"text-align: right;\">\n",
       "      <th></th>\n",
       "      <th>stock_desc</th>\n",
       "      <th>stock_num</th>\n",
       "      <th>value</th>\n",
       "      <th>date</th>\n",
       "      <th>commission</th>\n",
       "    </tr>\n",
       "  </thead>\n",
       "  <tbody>\n",
       "    <tr>\n",
       "      <th>0</th>\n",
       "      <td>RU DEPOS.קסם</td>\n",
       "      <td>1145770</td>\n",
       "      <td>17430.7</td>\n",
       "      <td>2019-06-25</td>\n",
       "      <td>0</td>\n",
       "    </tr>\n",
       "    <tr>\n",
       "      <th>1</th>\n",
       "      <td>פסג.תא נדלן</td>\n",
       "      <td>1148691</td>\n",
       "      <td>20510.5</td>\n",
       "      <td>2019-06-25</td>\n",
       "      <td>0</td>\n",
       "    </tr>\n",
       "  </tbody>\n",
       "</table>\n",
       "</div>"
      ],
      "text/plain": [
       "     stock_desc  stock_num    value       date  commission\n",
       "0  RU DEPOS.קסם    1145770  17430.7 2019-06-25           0\n",
       "1   פסג.תא נדלן    1148691  20510.5 2019-06-25           0"
      ]
     },
     "execution_count": 58,
     "metadata": {},
     "output_type": "execute_result"
    }
   ],
   "source": [
    "ps = present_state.loc[:,['שם נייר','מספר נייר','שווי נוכחי']] #leave only relevant columns\n",
    "ps.columns = ['stock_desc','stock_num','value'] #translate columns names\n",
    "ps['date'] = pd.Timestamp('25/06/2019') #add date column\n",
    "ps['commission'] = 0\n",
    "ps.head(2)"
   ]
  },
  {
   "cell_type": "markdown",
   "metadata": {},
   "source": [
    "### Concatenation Between df"
   ]
  },
  {
   "cell_type": "markdown",
   "metadata": {},
   "source": [
    "Concat main df to portfolio present state"
   ]
  },
  {
   "cell_type": "code",
   "execution_count": 59,
   "metadata": {},
   "outputs": [
    {
     "data": {
      "text/html": [
       "<div>\n",
       "<style scoped>\n",
       "    .dataframe tbody tr th:only-of-type {\n",
       "        vertical-align: middle;\n",
       "    }\n",
       "\n",
       "    .dataframe tbody tr th {\n",
       "        vertical-align: top;\n",
       "    }\n",
       "\n",
       "    .dataframe thead th {\n",
       "        text-align: right;\n",
       "    }\n",
       "</style>\n",
       "<table border=\"1\" class=\"dataframe\">\n",
       "  <thead>\n",
       "    <tr style=\"text-align: right;\">\n",
       "      <th></th>\n",
       "      <th>action_cost</th>\n",
       "      <th>action_credit</th>\n",
       "      <th>action_type</th>\n",
       "      <th>balance</th>\n",
       "      <th>commission</th>\n",
       "      <th>confirmation_num</th>\n",
       "      <th>date</th>\n",
       "      <th>price</th>\n",
       "      <th>quantity</th>\n",
       "      <th>stock_desc</th>\n",
       "      <th>stock_num</th>\n",
       "    </tr>\n",
       "  </thead>\n",
       "  <tbody>\n",
       "    <tr>\n",
       "      <th>12</th>\n",
       "      <td>NaN</td>\n",
       "      <td>21515.47</td>\n",
       "      <td>NaN</td>\n",
       "      <td>NaN</td>\n",
       "      <td>0.0</td>\n",
       "      <td>NaN</td>\n",
       "      <td>2019-06-25</td>\n",
       "      <td>NaN</td>\n",
       "      <td>NaN</td>\n",
       "      <td>קסם KTF 600 STOX</td>\n",
       "      <td>5125612</td>\n",
       "    </tr>\n",
       "    <tr>\n",
       "      <th>13</th>\n",
       "      <td>NaN</td>\n",
       "      <td>0.00</td>\n",
       "      <td>NaN</td>\n",
       "      <td>NaN</td>\n",
       "      <td>0.0</td>\n",
       "      <td>NaN</td>\n",
       "      <td>2019-06-25</td>\n",
       "      <td>NaN</td>\n",
       "      <td>NaN</td>\n",
       "      <td>מגן מס</td>\n",
       "      <td>9992983</td>\n",
       "    </tr>\n",
       "  </tbody>\n",
       "</table>\n",
       "</div>"
      ],
      "text/plain": [
       "    action_cost  action_credit action_type  balance  commission  \\\n",
       "12          NaN       21515.47         NaN      NaN         0.0   \n",
       "13          NaN           0.00         NaN      NaN         0.0   \n",
       "\n",
       "    confirmation_num       date  price  quantity        stock_desc  stock_num  \n",
       "12               NaN 2019-06-25    NaN       NaN  קסם KTF 600 STOX    5125612  \n",
       "13               NaN 2019-06-25    NaN       NaN            מגן מס    9992983  "
      ]
     },
     "execution_count": 59,
     "metadata": {},
     "output_type": "execute_result"
    }
   ],
   "source": [
    "df_concat = pd.concat([df,ps.rename(columns={'value':'action_credit'})],axis = 0)\n",
    "df_concat.tail(2)"
   ]
  },
  {
   "cell_type": "code",
   "execution_count": 60,
   "metadata": {},
   "outputs": [],
   "source": [
    "#df_concat=df_concat[df_concat.stock_num==5119128]"
   ]
  },
  {
   "cell_type": "markdown",
   "metadata": {},
   "source": [
    "Create cost df"
   ]
  },
  {
   "cell_type": "code",
   "execution_count": 61,
   "metadata": {},
   "outputs": [
    {
     "data": {
      "text/html": [
       "<div>\n",
       "<style scoped>\n",
       "    .dataframe tbody tr th:only-of-type {\n",
       "        vertical-align: middle;\n",
       "    }\n",
       "\n",
       "    .dataframe tbody tr th {\n",
       "        vertical-align: top;\n",
       "    }\n",
       "\n",
       "    .dataframe thead th {\n",
       "        text-align: right;\n",
       "    }\n",
       "</style>\n",
       "<table border=\"1\" class=\"dataframe\">\n",
       "  <thead>\n",
       "    <tr style=\"text-align: right;\">\n",
       "      <th></th>\n",
       "      <th>date</th>\n",
       "      <th>action_cost</th>\n",
       "    </tr>\n",
       "  </thead>\n",
       "  <tbody>\n",
       "    <tr>\n",
       "      <th>0</th>\n",
       "      <td>2014-11-30</td>\n",
       "      <td>-10166.0020</td>\n",
       "    </tr>\n",
       "    <tr>\n",
       "      <th>1</th>\n",
       "      <td>2014-11-30</td>\n",
       "      <td>-22398.0427</td>\n",
       "    </tr>\n",
       "  </tbody>\n",
       "</table>\n",
       "</div>"
      ],
      "text/plain": [
       "        date  action_cost\n",
       "0 2014-11-30  -10166.0020\n",
       "1 2014-11-30  -22398.0427"
      ]
     },
     "execution_count": 61,
     "metadata": {},
     "output_type": "execute_result"
    }
   ],
   "source": [
    "df_cost = df_concat.loc[df_concat.action_cost!=0 ,['date','stock_num','action_cost','commission']] \n",
    "df_cost=df_cost.groupby(['date', 'stock_num'])['action_cost','commission'].agg('sum').reset_index()#deleting redundant rows (that sum up to zero)\n",
    "df_cost['action_cost'] = (df_cost['action_cost'] + df_cost['commission']) *-1\n",
    "df_cost = df_cost.loc[:,['date','action_cost']]\n",
    "df_cost.head(2)"
   ]
  },
  {
   "cell_type": "markdown",
   "metadata": {},
   "source": [
    "Create credit df"
   ]
  },
  {
   "cell_type": "code",
   "execution_count": 62,
   "metadata": {},
   "outputs": [
    {
     "data": {
      "text/html": [
       "<div>\n",
       "<style scoped>\n",
       "    .dataframe tbody tr th:only-of-type {\n",
       "        vertical-align: middle;\n",
       "    }\n",
       "\n",
       "    .dataframe tbody tr th {\n",
       "        vertical-align: top;\n",
       "    }\n",
       "\n",
       "    .dataframe thead th {\n",
       "        text-align: right;\n",
       "    }\n",
       "</style>\n",
       "<table border=\"1\" class=\"dataframe\">\n",
       "  <thead>\n",
       "    <tr style=\"text-align: right;\">\n",
       "      <th></th>\n",
       "      <th>date</th>\n",
       "      <th>action_credit</th>\n",
       "    </tr>\n",
       "  </thead>\n",
       "  <tbody>\n",
       "    <tr>\n",
       "      <th>0</th>\n",
       "      <td>2015-03-01</td>\n",
       "      <td>14.75</td>\n",
       "    </tr>\n",
       "    <tr>\n",
       "      <th>1</th>\n",
       "      <td>2015-03-01</td>\n",
       "      <td>33.22</td>\n",
       "    </tr>\n",
       "  </tbody>\n",
       "</table>\n",
       "</div>"
      ],
      "text/plain": [
       "        date  action_credit\n",
       "0 2015-03-01          14.75\n",
       "1 2015-03-01          33.22"
      ]
     },
     "execution_count": 62,
     "metadata": {},
     "output_type": "execute_result"
    }
   ],
   "source": [
    "df_credit=df_concat.loc[df_concat.action_credit!=0 ,['date','stock_num','action_credit','commission']]\n",
    "df_credit=df_credit.groupby(['date', 'stock_num'])['action_credit','commission'].agg('sum').reset_index()#deleting redundant rows (that sum up to zero)\n",
    "df_credit['action_credit'] = df_credit['action_credit'] - df_credit['commission']\n",
    "df_credit=df_credit.loc[:,['date','action_credit']]\n",
    "df_credit.head(2)"
   ]
  },
  {
   "cell_type": "markdown",
   "metadata": {},
   "source": [
    "Create df_xirr dataframe in a format that xirr() function acceptes"
   ]
  },
  {
   "cell_type": "code",
   "execution_count": 63,
   "metadata": {},
   "outputs": [
    {
     "data": {
      "text/html": [
       "<div>\n",
       "<style scoped>\n",
       "    .dataframe tbody tr th:only-of-type {\n",
       "        vertical-align: middle;\n",
       "    }\n",
       "\n",
       "    .dataframe tbody tr th {\n",
       "        vertical-align: top;\n",
       "    }\n",
       "\n",
       "    .dataframe thead th {\n",
       "        text-align: right;\n",
       "    }\n",
       "</style>\n",
       "<table border=\"1\" class=\"dataframe\">\n",
       "  <thead>\n",
       "    <tr style=\"text-align: right;\">\n",
       "      <th></th>\n",
       "      <th>date</th>\n",
       "      <th>value</th>\n",
       "    </tr>\n",
       "  </thead>\n",
       "  <tbody>\n",
       "    <tr>\n",
       "      <th>0</th>\n",
       "      <td>2014-11-30</td>\n",
       "      <td>-10166.0020</td>\n",
       "    </tr>\n",
       "    <tr>\n",
       "      <th>1</th>\n",
       "      <td>2014-11-30</td>\n",
       "      <td>-22398.0427</td>\n",
       "    </tr>\n",
       "  </tbody>\n",
       "</table>\n",
       "</div>"
      ],
      "text/plain": [
       "        date       value\n",
       "0 2014-11-30 -10166.0020\n",
       "1 2014-11-30 -22398.0427"
      ]
     },
     "execution_count": 63,
     "metadata": {},
     "output_type": "execute_result"
    }
   ],
   "source": [
    "df_xirr = pd.concat([df_cost.rename(columns={'action_cost':'value'}),df_credit.rename(columns={'action_credit':'value'})], axis = 0).reset_index(drop=True)\n",
    "df_xirr.head(2)"
   ]
  },
  {
   "cell_type": "code",
   "execution_count": 64,
   "metadata": {},
   "outputs": [],
   "source": [
    "df_xirr.to_excel(path /'df_xirr.xlsx')\n"
   ]
  },
  {
   "cell_type": "code",
   "execution_count": 65,
   "metadata": {
    "scrolled": false
   },
   "outputs": [],
   "source": [
    "df_xirr.head()\n",
    "tuples_xirr = [tuple(row) for row in df_xirr.values]\n",
    "#tuples_xirr"
   ]
  },
  {
   "cell_type": "code",
   "execution_count": 66,
   "metadata": {},
   "outputs": [
    {
     "data": {
      "text/plain": [
       "3.6904459193392825"
      ]
     },
     "execution_count": 66,
     "metadata": {},
     "output_type": "execute_result"
    }
   ],
   "source": [
    "xirr(tuples_xirr)*100"
   ]
  },
  {
   "cell_type": "code",
   "execution_count": 67,
   "metadata": {},
   "outputs": [],
   "source": [
    "df_xirr.to_excel(path /'df_check_stuff.xlsx')"
   ]
  }
 ],
 "metadata": {
  "kernelspec": {
   "display_name": "Python 3",
   "language": "python",
   "name": "python3"
  },
  "language_info": {
   "codemirror_mode": {
    "name": "ipython",
    "version": 3
   },
   "file_extension": ".py",
   "mimetype": "text/x-python",
   "name": "python",
   "nbconvert_exporter": "python",
   "pygments_lexer": "ipython3",
   "version": "3.6.4"
  }
 },
 "nbformat": 4,
 "nbformat_minor": 2
}
