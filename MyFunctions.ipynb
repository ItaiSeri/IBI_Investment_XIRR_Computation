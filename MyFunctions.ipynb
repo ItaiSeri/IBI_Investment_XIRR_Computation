{
 "cells": [
  {
   "cell_type": "code",
   "execution_count": 6,
   "metadata": {},
   "outputs": [],
   "source": [
    "#Function code from here: https://github.com/peliot/XIRR-and-XNPV\n",
    "\n",
    "import datetime\n",
    "from scipy import optimize \n",
    "import numpy as np\n",
    "import pandas as pd\n",
    "import matplotlib.pyplot as plt\n",
    "from pathlib import Path\n",
    "from glob import glob\n",
    "\n",
    "\n",
    "def xnpv(rate,cashflows):\n",
    "    \"\"\"\n",
    "    Calculate the net present value of a series of cashflows at irregular intervals.\n",
    "    Arguments\n",
    "    ---------\n",
    "    * rate: the discount rate to be applied to the cash flows\n",
    "    * cashflows: a list object in which each element is a tuple of the form (date, amount), where date is a python datetime.date object and amount is an integer or floating point number. Cash outflows (investments) are represented with negative amounts, and cash inflows (returns) are positive amounts.\n",
    "    \n",
    "    Returns\n",
    "    -------\n",
    "    * returns a single value which is the NPV of the given cash flows.\n",
    "    Notes\n",
    "    ---------------\n",
    "    * The Net Present Value is the sum of each of cash flows discounted back to the date of the first cash flow. The discounted value of a given cash flow is A/(1+r)**(t-t0), where A is the amount, r is the discout rate, and (t-t0) is the time in years from the date of the first cash flow in the series (t0) to the date of the cash flow being added to the sum (t).  \n",
    "    * This function is equivalent to the Microsoft Excel function of the same name. \n",
    "    \"\"\"\n",
    "\n",
    "    chron_order = sorted(cashflows, key = lambda x: x[0])\n",
    "    t0 = chron_order[0][0] #t0 is the date of the first cash flow\n",
    "\n",
    "    return sum([cf/(1+rate)**((t-t0).days/365.0) for (t,cf) in chron_order])\n",
    "\n",
    "def xirr(cashflows,guess=0.1):\n",
    "    \"\"\"\n",
    "    Calculate the Internal Rate of Return of a series of cashflows at irregular intervals.\n",
    "    Arguments\n",
    "    ---------\n",
    "    * cashflows: a list object in which each element is a tuple of the form (date, amount), where date is a python datetime.date object and amount is an integer or floating point number. Cash outflows (investments) are represented with negative amounts, and cash inflows (returns) are positive amounts.\n",
    "    * guess (optional, default = 0.1): a guess at the solution to be used as a starting point for the numerical solution. \n",
    "    Returns\n",
    "    --------\n",
    "    * Returns the IRR as a single value\n",
    "    \n",
    "    Notes\n",
    "    ----------------\n",
    "    * The Internal Rate of Return (IRR) is the discount rate at which the Net Present Value (NPV) of a series of cash flows is equal to zero. The NPV of the series of cash flows is determined using the xnpv function in this module. The discount rate at which NPV equals zero is found using the secant method of numerical solution. \n",
    "    * This function is equivalent to the Microsoft Excel function of the same name.\n",
    "    * For users that do not have the scipy module installed, there is an alternate version (commented out) that uses the secant_method function defined in the module rather than the scipy.optimize module's numerical solver. Both use the same method of calculation so there should be no difference in performance, but the secant_method function does not fail gracefully in cases where there is no solution, so the scipy.optimize.newton version is preferred.\n",
    "    \"\"\"\n",
    "    \n",
    "    return optimize.newton(lambda r: xnpv(r,cashflows),guess)\n",
    "\n",
    "path = Path(\"F:/Dowloads/investment/\")\n",
    "\n",
    "df = pd.read_excel(path / 'xirr_for_testing.xlsx', header = None) #read from dataset\n",
    "\n"
   ]
  },
  {
   "cell_type": "code",
   "execution_count": 7,
   "metadata": {},
   "outputs": [
    {
     "data": {
      "text/plain": [
       "array([[Timestamp('2000-01-01 00:00:00'), -12000],\n",
       "       [Timestamp('2001-01-01 00:00:00'), -24000],\n",
       "       [Timestamp('2002-01-01 00:00:00'), -12000],\n",
       "       [Timestamp('2003-01-01 00:00:00'), -12000],\n",
       "       [Timestamp('2004-01-01 00:00:00'), -12000],\n",
       "       [Timestamp('2011-01-01 00:00:00'), -50000],\n",
       "       [Timestamp('2006-01-01 00:00:00'), -12000],\n",
       "       [Timestamp('2007-01-01 00:00:00'), -12000],\n",
       "       [Timestamp('2008-01-01 00:00:00'), -12000],\n",
       "       [Timestamp('2009-01-01 00:00:00'), -12000],\n",
       "       [Timestamp('2010-01-01 00:00:00'), -12000],\n",
       "       [Timestamp('2011-01-01 00:00:00'), -12000],\n",
       "       [Timestamp('2012-01-01 00:00:00'), 517524]], dtype=object)"
      ]
     },
     "execution_count": 7,
     "metadata": {},
     "output_type": "execute_result"
    }
   ],
   "source": [
    "df.values"
   ]
  },
  {
   "cell_type": "code",
   "execution_count": 9,
   "metadata": {},
   "outputs": [
    {
     "data": {
      "text/plain": [
       "16.06534027731351"
      ]
     },
     "execution_count": 9,
     "metadata": {},
     "output_type": "execute_result"
    }
   ],
   "source": [
    "subset = df[[1,0]]\n",
    "tuples = [tuple(x) for x in df.values]\n",
    "xirr(tuples)*100"
   ]
  },
  {
   "cell_type": "code",
   "execution_count": null,
   "metadata": {},
   "outputs": [],
   "source": []
  }
 ],
 "metadata": {
  "kernelspec": {
   "display_name": "Python 3",
   "language": "python",
   "name": "python3"
  },
  "language_info": {
   "codemirror_mode": {
    "name": "ipython",
    "version": 3
   },
   "file_extension": ".py",
   "mimetype": "text/x-python",
   "name": "python",
   "nbconvert_exporter": "python",
   "pygments_lexer": "ipython3",
   "version": "3.6.4"
  }
 },
 "nbformat": 4,
 "nbformat_minor": 2
}
